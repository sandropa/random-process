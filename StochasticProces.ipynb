{
 "cells": [
  {
   "cell_type": "code",
   "execution_count": 264,
   "metadata": {},
   "outputs": [],
   "source": [
    "import numpy as np\n",
    "import matplotlib.pyplot as plt"
   ]
  },
  {
   "cell_type": "code",
   "execution_count": 265,
   "metadata": {},
   "outputs": [],
   "source": [
    "np.random.seed(42)"
   ]
  },
  {
   "cell_type": "code",
   "execution_count": 266,
   "metadata": {},
   "outputs": [],
   "source": [
    "class StohasticProces1D:\n",
    "    def __init__(self, n):\n",
    "        '''\n",
    "        each cell has 1000\n",
    "        '''\n",
    "        self.n = n\n",
    "        self.cells =  np.full(n, 1000, int)\n",
    "\n",
    "        self.move_left = np.random.rand(n)\n",
    "        self.move_right = np.random.rand(n)\n",
    "        self.stay = np.random.rand(n)\n",
    "        s = self.move_right + self.move_left + self.stay\n",
    "        self.move_left /= s\n",
    "        self.move_right /= s\n",
    "        self.stay /= s\n",
    "    \n",
    "    def get_cells(self):\n",
    "        return self.cells\n",
    "    \n",
    "    def get_move_left(self):\n",
    "        return self.move_left\n",
    "    \n",
    "    def get_move_right(self):\n",
    "        return self.get_move_right\n",
    "    \n",
    "    def get_n(self):\n",
    "        return self.n\n",
    "    \n",
    "    def move(self):\n",
    "        new_cells = self.cells.copy()\n",
    "        for i in range(self.n):\n",
    "            left = int(self.move_left[i] * self.cells[i])\n",
    "            right = int(self.move_right[i] * self.cells[i])\n",
    "\n",
    "            new_cells[(i - 1) % self.n] += left\n",
    "            new_cells[(i + 1) % self.n] += right\n",
    "            new_cells[i] -= (left + right)\n",
    "        self.cells = new_cells\n",
    "\n",
    "    def sum(self):\n",
    "        return np.sum(self.cells)\n",
    "    \n",
    "    def run(self, num_iter):\n",
    "        self.results = []  # Initialize an empty list to store the results\n",
    "        for i in range(num_iter):\n",
    "            self.results.append(self.get_cells())  # Append the current state of cells to the list\n",
    "            self.move()  # Perform the move operation\n",
    "            if i > 0 and np.array_equal(self.cells, self.results[-1]):  # Compare with the previous state\n",
    "                break  # Break the loop if the current state matches the previous state\n",
    "\n",
    "        self.results = np.array(self.results)  # Convert the list to a NumPy array if needed\n",
    "\n",
    "\n",
    "    def get_results(self):\n",
    "        return self.results\n",
    "\n",
    "\n",
    "    "
   ]
  },
  {
   "cell_type": "code",
   "execution_count": 267,
   "metadata": {},
   "outputs": [
    {
     "data": {
      "text/plain": [
       "<matplotlib.image.AxesImage at 0x1f8843e9a10>"
      ]
     },
     "execution_count": 267,
     "metadata": {},
     "output_type": "execute_result"
    },
    {
     "data": {
      "image/png": "[encoded data removed]",
      "text/plain": [
       "<Figure size 1400x800 with 1 Axes>"
      ]
     },
     "metadata": {},
     "output_type": "display_data"
    }
   ],
   "source": [
    "S = StohasticProces1D(100)\n",
    "S.run(100)\n",
    "\n",
    "plt.figure(figsize=(14, 8))\n",
    "plt.imshow(S.results, cmap=\"binary\")"
   ]
  }
 ],
 "metadata": {
  "kernelspec": {
   "display_name": "Python 3",
   "language": "python",
   "name": "python3"
  },
  "language_info": {
   "codemirror_mode": {
    "name": "ipython",
    "version": 3
   },
   "file_extension": ".py",
   "mimetype": "text/x-python",
   "name": "python",
   "nbconvert_exporter": "python",
   "pygments_lexer": "ipython3",
   "version": "3.11.9"
  }
 },
 "nbformat": 4,
 "nbformat_minor": 2
}
